{
 "cells": [
  {
   "cell_type": "code",
   "execution_count": 1,
   "metadata": {},
   "outputs": [],
   "source": [
    "import jiwer\n",
    "\n",
    "# 単語誤り(WER)\n",
    "word_output = jiwer.process_words(\n",
    "    ['short one here', 'quite a bit of longer sentence'],\n",
    "    ['shoe order one', 'quite bit of an even longest sentence here'],\n",
    ")"
   ]
  },
  {
   "cell_type": "code",
   "execution_count": 2,
   "metadata": {},
   "outputs": [
    {
     "name": "stdout",
     "output_type": "stream",
     "text": [
      "sentence 1\n",
      "REF: **** short one here\n",
      "HYP: shoe order one ****\n",
      "        I     S        D\n",
      "\n",
      "sentence 2\n",
      "REF: quite a bit of ** ****  longer sentence ****\n",
      "HYP: quite * bit of an even longest sentence here\n",
      "           D         I    I       S             I\n",
      "\n",
      "number of sentences: 2\n",
      "substitutions=2 deletions=2 insertions=4 hits=5\n",
      "\n",
      "mer=61.54%\n",
      "wil=74.75%\n",
      "wip=25.25%\n",
      "wer=88.89%\n",
      "\n"
     ]
    }
   ],
   "source": [
    "print(jiwer.visualize_alignment(word_output))"
   ]
  },
  {
   "cell_type": "code",
   "execution_count": 3,
   "metadata": {},
   "outputs": [],
   "source": [
    "# 文字誤り(CER)\n",
    "char_output = jiwer.process_characters(\n",
    "    ['short one here', 'quite a bit of longer sentence'],\n",
    "    ['shoe order one', 'quite bit of an even longest sentence here'],\n",
    ")"
   ]
  },
  {
   "cell_type": "code",
   "execution_count": 6,
   "metadata": {},
   "outputs": [
    {
     "name": "stdout",
     "output_type": "stream",
     "text": [
      "sentence 1\n",
      "REF: short o*ne* here\n",
      "HYP: shoe* order on*e\n",
      "        SD  IS I SSD \n",
      "\n",
      "sentence 2\n",
      "REF: quite a bit of ********longe*r sentenc*****e\n",
      "HYP: quite **bit of an even longest sentence here\n",
      "           DD       IIIIIIII     IS        IIIII \n",
      "\n",
      "number of sentences: 2\n",
      "substitutions=5 deletions=4 insertions=16 hits=35\n",
      "\n",
      "cer=56.82%\n",
      "\n"
     ]
    }
   ],
   "source": [
    "print(jiwer.visualize_alignment(char_output))"
   ]
  }
 ],
 "metadata": {
  "kernelspec": {
   "display_name": "transformers",
   "language": "python",
   "name": "transformers"
  },
  "language_info": {
   "codemirror_mode": {
    "name": "ipython",
    "version": 3
   },
   "file_extension": ".py",
   "mimetype": "text/x-python",
   "name": "python",
   "nbconvert_exporter": "python",
   "pygments_lexer": "ipython3",
   "version": "3.11.8"
  }
 },
 "nbformat": 4,
 "nbformat_minor": 2
}
